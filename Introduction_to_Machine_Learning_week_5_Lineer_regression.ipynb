{
  "nbformat": 4,
  "nbformat_minor": 0,
  "metadata": {
    "colab": {
      "name": "Introduction to Machine Learning week 5 Lineer regression",
      "provenance": [],
      "collapsed_sections": [],
      "authorship_tag": "ABX9TyOFtIdXstQ2OamSu3YwcP2k",
      "include_colab_link": true
    },
    "kernelspec": {
      "name": "python3",
      "display_name": "Python 3"
    },
    "language_info": {
      "name": "python"
    }
  },
  "cells": [
    {
      "cell_type": "markdown",
      "metadata": {
        "id": "view-in-github",
        "colab_type": "text"
      },
      "source": [
        "<a href=\"https://colab.research.google.com/github/1810205045/Introduction-to-Machine-Learning-Lab-and-homeworks/blob/main/Introduction_to_Machine_Learning_week_5_Lineer_regression.ipynb\" target=\"_parent\"><img src=\"https://colab.research.google.com/assets/colab-badge.svg\" alt=\"Open In Colab\"/></a>"
      ]
    },
    {
      "cell_type": "code",
      "execution_count": 1,
      "metadata": {
        "colab": {
          "base_uri": "https://localhost:8080/"
        },
        "id": "PEb5jReeYr2B",
        "outputId": "c4c20d42-0a81-45d2-d393-6dc5b3bf14a8"
      },
      "outputs": [
        {
          "output_type": "stream",
          "name": "stdout",
          "text": [
            "Mounted at /content/drive\n"
          ]
        }
      ],
      "source": [
        "import numpy as np # linear algebra\n",
        "import pandas as pd # data processing, CSV file I/O (e.g. pd.read_csv)\n",
        "import seaborn as sns\n",
        "import matplotlib.pyplot as plt\n",
        "\n",
        "from google.colab import drive\n",
        "drive.mount('/content/drive')"
      ]
    },
    {
      "cell_type": "code",
      "source": [
        "data = pd.read_csv(\"/content/drive/MyDrive/Machine Learning Data/linear-regression-dataset.csv\",sep=\";\")"
      ],
      "metadata": {
        "id": "ZCyZUL7qY4Id"
      },
      "execution_count": 3,
      "outputs": []
    },
    {
      "cell_type": "code",
      "source": [
        "data.head"
      ],
      "metadata": {
        "colab": {
          "base_uri": "https://localhost:8080/"
        },
        "id": "_i8OXtoDZXVP",
        "outputId": "d782ae18-a0b5-4b66-dfba-e6eea451ad16"
      },
      "execution_count": 4,
      "outputs": [
        {
          "output_type": "execute_result",
          "data": {
            "text/plain": [
              "<bound method NDFrame.head of     experience  salary\n",
              "0          0.5    2500\n",
              "1          0.0    2250\n",
              "2          1.0    2750\n",
              "3          5.0    8000\n",
              "4          8.0    9000\n",
              "5          4.0    6900\n",
              "6         15.0   20000\n",
              "7          7.0    8500\n",
              "8          3.0    6000\n",
              "9          2.0    3500\n",
              "10        12.0   15000\n",
              "11        10.0   13000\n",
              "12        14.0   18000\n",
              "13         6.0    7500>"
            ]
          },
          "metadata": {},
          "execution_count": 4
        }
      ]
    },
    {
      "cell_type": "code",
      "source": [
        "data.info()"
      ],
      "metadata": {
        "colab": {
          "base_uri": "https://localhost:8080/"
        },
        "id": "-vyI1l9dZX6H",
        "outputId": "e657ff69-9d34-482f-cd92-f68e0e7eef4b"
      },
      "execution_count": 5,
      "outputs": [
        {
          "output_type": "stream",
          "name": "stdout",
          "text": [
            "<class 'pandas.core.frame.DataFrame'>\n",
            "RangeIndex: 14 entries, 0 to 13\n",
            "Data columns (total 2 columns):\n",
            " #   Column      Non-Null Count  Dtype  \n",
            "---  ------      --------------  -----  \n",
            " 0   experience  14 non-null     float64\n",
            " 1   salary      14 non-null     int64  \n",
            "dtypes: float64(1), int64(1)\n",
            "memory usage: 352.0 bytes\n"
          ]
        }
      ]
    },
    {
      "cell_type": "code",
      "source": [
        "plt.scatter(data.experience,data.salary) #scatter olarak tablo oluşturduk\n",
        "plt.xlabel(\"Experience\")\n",
        "plt.ylabel(\"Salary\")\n",
        "plt.show()"
      ],
      "metadata": {
        "colab": {
          "base_uri": "https://localhost:8080/",
          "height": 279
        },
        "id": "J0J3GZE2Zam-",
        "outputId": "13bf8275-0752-48a6-92e3-96bf77aa01a5"
      },
      "execution_count": 6,
      "outputs": [
        {
          "output_type": "display_data",
          "data": {
            "text/plain": [
              "<Figure size 432x288 with 1 Axes>"
            ],
            "image/png": "[encoded data removed]"
          },
          "metadata": {
            "needs_background": "light"
          }
        }
      ]
    },
    {
      "cell_type": "code",
      "source": [
        "from sklearn.linear_model import LinearRegression\n",
        "\n",
        "# linear regression model\n",
        "linear_reg = LinearRegression()\n",
        "\n",
        "x = data.experience.values.reshape(14,1)\n",
        "y = data.salary.values.reshape(14,1)\n",
        "\n",
        "linear_reg.fit(x,y)"
      ],
      "metadata": {
        "colab": {
          "base_uri": "https://localhost:8080/"
        },
        "id": "jmaDpC7WZfRt",
        "outputId": "9118e3aa-28dd-4966-9287-13a3ffe43dd2"
      },
      "execution_count": 7,
      "outputs": [
        {
          "output_type": "execute_result",
          "data": {
            "text/plain": [
              "LinearRegression()"
            ]
          },
          "metadata": {},
          "execution_count": 7
        }
      ]
    },
    {
      "cell_type": "code",
      "source": [
        "import numpy as np\n",
        "\n",
        "b0 = linear_reg.predict([[0]])\n",
        "print(\"b0: \",b0)"
      ],
      "metadata": {
        "colab": {
          "base_uri": "https://localhost:8080/"
        },
        "id": "EFF3MGoDZnhv",
        "outputId": "a7a5dd4d-6d70-4504-d654-bafb27b6a6fe"
      },
      "execution_count": 8,
      "outputs": [
        {
          "output_type": "stream",
          "name": "stdout",
          "text": [
            "b0:  [[1663.89519747]]\n"
          ]
        }
      ]
    },
    {
      "cell_type": "code",
      "source": [
        "array = np.array([0,1,2,3,4,5,6,7,8,9,10,11,12,13,14,15]).reshape(-1,1)\n",
        "y_head = linear_reg.predict(array)  # salary\n",
        "plt.scatter(x,y)\n",
        "plt.plot(array, y_head,color = \"black\")\n",
        "plt.show()"
      ],
      "metadata": {
        "colab": {
          "base_uri": "https://localhost:8080/",
          "height": 265
        },
        "id": "vahjEcqcZp9n",
        "outputId": "95847b3c-f058-429a-c4f9-887e703a0e18"
      },
      "execution_count": 10,
      "outputs": [
        {
          "output_type": "display_data",
          "data": {
            "text/plain": [
              "<Figure size 432x288 with 1 Axes>"
            ],
            "image/png": "[encoded data removed]"
          },
          "metadata": {
            "needs_background": "light"
          }
        }
      ]
    },
    {
      "cell_type": "code",
      "source": [
        "b0_ = linear_reg.intercept_\n",
        "print(\"b0_: \",b0_)   # intercept the y-axis\n",
        "\n",
        "b1 = linear_reg.coef_\n",
        "print(\"b1: \",b1)   # slope\n",
        "\n",
        "# salary = 1663 + 1138*experience \n",
        "new_salary = 1663 + 1138*11\n",
        "print(new_salary)"
      ],
      "metadata": {
        "colab": {
          "base_uri": "https://localhost:8080/"
        },
        "id": "ypOmhdS1ZtUo",
        "outputId": "d7d0b4c8-ad28-4a02-be24-73da4d9faf8d"
      },
      "execution_count": 12,
      "outputs": [
        {
          "output_type": "stream",
          "name": "stdout",
          "text": [
            "b0_:  [1663.89519747]\n",
            "b1:  [[1138.34819698]]\n",
            "14181\n"
          ]
        }
      ]
    },
    {
      "cell_type": "code",
      "source": [
        "b11 = linear_reg.predict([[12]])\n",
        "print(\"b11: \",b11)"
      ],
      "metadata": {
        "colab": {
          "base_uri": "https://localhost:8080/"
        },
        "id": "F4-UaixyZ_uO",
        "outputId": "300a8c6a-6b79-4d20-9fcc-f0aef95b791b"
      },
      "execution_count": 13,
      "outputs": [
        {
          "output_type": "stream",
          "name": "stdout",
          "text": [
            "b11:  [[15324.07356118]]\n"
          ]
        }
      ]
    },
    {
      "cell_type": "code",
      "source": [
        "b100 = linear_reg.predict([[100]])\n",
        "print(\"b11: \",b100)"
      ],
      "metadata": {
        "colab": {
          "base_uri": "https://localhost:8080/"
        },
        "id": "UGfLJ5A9aAL_",
        "outputId": "23bfd781-36a9-4a75-ba58-7da959d46a83"
      },
      "execution_count": 14,
      "outputs": [
        {
          "output_type": "stream",
          "name": "stdout",
          "text": [
            "b11:  [[115498.71489503]]\n"
          ]
        }
      ]
    },
    {
      "cell_type": "code",
      "source": [
        ""
      ],
      "metadata": {
        "id": "HrOPmVnDaREy"
      },
      "execution_count": null,
      "outputs": []
    },
    {
      "cell_type": "code",
      "source": [
        ""
      ],
      "metadata": {
        "id": "77vymKX3aHo8"
      },
      "execution_count": null,
      "outputs": []
    }
  ]
}