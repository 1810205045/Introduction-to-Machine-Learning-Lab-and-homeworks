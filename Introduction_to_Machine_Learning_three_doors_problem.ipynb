{
  "nbformat": 4,
  "nbformat_minor": 0,
  "metadata": {
    "colab": {
      "name": "Introduction to Machine Learning three doors problem",
      "provenance": [],
      "authorship_tag": "ABX9TyMp67ZMHtZBSY53onbxQiK4",
      "include_colab_link": true
    },
    "kernelspec": {
      "name": "python3",
      "display_name": "Python 3"
    },
    "language_info": {
      "name": "python"
    }
  },
  "cells": [
    {
      "cell_type": "markdown",
      "metadata": {
        "id": "view-in-github",
        "colab_type": "text"
      },
      "source": [
        "<a href=\"https://colab.research.google.com/github/1810205045/Introduction-to-Machine-Learning-Lab-and-homeworks/blob/main/Introduction_to_Machine_Learning_three_doors_problem.ipynb\" target=\"_parent\"><img src=\"https://colab.research.google.com/assets/colab-badge.svg\" alt=\"Open In Colab\"/></a>"
      ]
    },
    {
      "cell_type": "code",
      "execution_count": 13,
      "metadata": {
        "id": "-0g5f9t-tJXg"
      },
      "outputs": [],
      "source": [
        "import random\n",
        "degistirme_dogrulugu = 0\n",
        "degistirmeme_dogrulugu = 0\n"
      ]
    },
    {
      "cell_type": "code",
      "source": [
        "for tekrar in range(1000):\n",
        "    tahmin = random.randint(1,3)\n",
        "    odul = random.randint(1,3)\n",
        "    kapilar = [1,2,3]\n",
        "    kapilar.remove(tahmin)\n",
        "    if tahmin == odul:\n",
        "        degistirmeme_dogrulugu+=1\n",
        "    else:\n",
        "        degistirme_dogrulugu+=1\n",
        "        \n",
        "print(\"degistirme dogrulugu:%\", degistirme_dogrulugu/10)\n",
        "print(\"degistirmeme dogrulugu:%\", degistirmeme_dogrulugu/10)"
      ],
      "metadata": {
        "colab": {
          "base_uri": "https://localhost:8080/"
        },
        "id": "fBqjIxSmtNQt",
        "outputId": "5ebbc649-73f7-4768-8285-c49f4e484d65"
      },
      "execution_count": 14,
      "outputs": [
        {
          "output_type": "stream",
          "name": "stdout",
          "text": [
            "degistirme dogrulugu:% 64.4\n",
            "degistirmeme dogrulugu:% 35.6\n"
          ]
        }
      ]
    },
    {
      "cell_type": "code",
      "source": [
        ""
      ],
      "metadata": {
        "id": "m0SYDwS3tc1N"
      },
      "execution_count": null,
      "outputs": []
    }
  ]
}